{
 "cells": [
  {
   "cell_type": "code",
   "execution_count": 31,
   "id": "6085e504-d9a6-4b1a-8b64-e54b1346a726",
   "metadata": {},
   "outputs": [
    {
     "name": "stdin",
     "output_type": "stream",
     "text": [
      "Enter your name:  alex\n",
      "Enter your weight in pounds:  170\n",
      "Enter your height in inches:  69\n"
     ]
    },
    {
     "name": "stdout",
     "output_type": "stream",
     "text": [
      "25.101869355177485\n",
      "alex, you are overweight\n"
     ]
    }
   ],
   "source": [
    "name = input('Enter your name: ')\n",
    "weight = int(input(\"Enter your weight in pounds: \"))\n",
    "height = int(input(\"Enter your height in inches: \"))\n",
    "BMI = (weight * 703)/( height* height)\n",
    "print(BMI)\n",
    "\n",
    "if BMI > 0:\n",
    "    if (BMI<18.5):\n",
    "        print(name + ', you are underweight')\n",
    "    elif (BMI<=24.9):\n",
    "        print(name + ', you are normal weight')\n",
    "    elif (BMI<=29.9):\n",
    "        print(name + ', you are overweight')\n",
    "    elif (BMI<=34.9):\n",
    "        print(name + ', you are obese')\n",
    "    elif (BMI<=39.9):\n",
    "        print(name + ', you are severely obese')\n",
    "    else:\n",
    "        print(name + ', you are morbidly obese')\n",
    "else:\n",
    "    print('Enter valid inputs')"
   ]
  },
  {
   "cell_type": "code",
   "execution_count": 5,
   "id": "ac3b236e-c7b4-41ba-b619-d8167347da44",
   "metadata": {},
   "outputs": [
    {
     "name": "stdout",
     "output_type": "stream",
     "text": [
      "170\n"
     ]
    }
   ],
   "source": [
    "print(weight)"
   ]
  },
  {
   "cell_type": "code",
   "execution_count": 27,
   "id": "be3538d9-bac0-406e-b111-ef6fa02bfd85",
   "metadata": {},
   "outputs": [
    {
     "name": "stdout",
     "output_type": "stream",
     "text": [
      "Alex , you are overweight\n"
     ]
    }
   ],
   "source": [
    "if BMI > 0:\n",
    "    if (BMI<18.5):\n",
    "        print(name + ' , you are underweight')\n",
    "    elif (BMI<=24.9):\n",
    "        print(name + ' , you are normal weight')\n",
    "    elif (BMI<=29.9):\n",
    "        print(name + ' , you are overweight')\n",
    "    elif (BMI<=34.9):\n",
    "        print(name + ' , you are obese')\n",
    "    elif (BMI<=39.9):\n",
    "        print(name + ' , you are severely obese')\n",
    "    else:\n",
    "        print(name + ' , you are morbidly obese')\n",
    "else:\n",
    "    print('Enter valid inputs')"
   ]
  },
  {
   "cell_type": "code",
   "execution_count": null,
   "id": "268c7b40-7639-4664-8423-e900b974de71",
   "metadata": {},
   "outputs": [],
   "source": []
  }
 ],
 "metadata": {
  "kernelspec": {
   "display_name": "Python 3 (ipykernel)",
   "language": "python",
   "name": "python3"
  },
  "language_info": {
   "codemirror_mode": {
    "name": "ipython",
    "version": 3
   },
   "file_extension": ".py",
   "mimetype": "text/x-python",
   "name": "python",
   "nbconvert_exporter": "python",
   "pygments_lexer": "ipython3",
   "version": "3.11.7"
  }
 },
 "nbformat": 4,
 "nbformat_minor": 5
}
